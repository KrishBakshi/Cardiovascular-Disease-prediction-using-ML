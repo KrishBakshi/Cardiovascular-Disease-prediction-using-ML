{
 "cells": [
  {
   "cell_type": "code",
   "execution_count": 1,
   "id": "9d05e478",
   "metadata": {},
   "outputs": [],
   "source": [
    "import pandas as pd\n",
    "import numpy as np\n",
    "from sklearn.model_selection import train_test_split,GridSearchCV\n",
    "from sklearn.ensemble import RandomForestClassifier\n",
    "from sklearn.svm import SVC\n",
    "from sklearn.linear_model import LogisticRegression\n",
    "from sklearn.naive_bayes import GaussianNB"
   ]
  },
  {
   "cell_type": "code",
   "execution_count": 2,
   "id": "67ac72ec",
   "metadata": {},
   "outputs": [],
   "source": [
    "df = pd.read_csv('data/training_data.csv')"
   ]
  },
  {
   "cell_type": "code",
   "execution_count": null,
   "id": "2339d1a9",
   "metadata": {},
   "outputs": [],
   "source": []
  },
  {
   "cell_type": "code",
   "execution_count": 3,
   "id": "acc19dd9",
   "metadata": {},
   "outputs": [
    {
     "data": {
      "text/html": [
       "<div>\n",
       "<style scoped>\n",
       "    .dataframe tbody tr th:only-of-type {\n",
       "        vertical-align: middle;\n",
       "    }\n",
       "\n",
       "    .dataframe tbody tr th {\n",
       "        vertical-align: top;\n",
       "    }\n",
       "\n",
       "    .dataframe thead th {\n",
       "        text-align: right;\n",
       "    }\n",
       "</style>\n",
       "<table border=\"1\" class=\"dataframe\">\n",
       "  <thead>\n",
       "    <tr style=\"text-align: right;\">\n",
       "      <th></th>\n",
       "      <th>General_Health</th>\n",
       "      <th>Checkup</th>\n",
       "      <th>Exercise</th>\n",
       "      <th>Heart_Disease</th>\n",
       "      <th>Skin_Cancer</th>\n",
       "      <th>Other_Cancer</th>\n",
       "      <th>Depression</th>\n",
       "      <th>Diabetes</th>\n",
       "      <th>Arthritis</th>\n",
       "      <th>Age_Category</th>\n",
       "      <th>Height_(cm)</th>\n",
       "      <th>Weight_(kg)</th>\n",
       "      <th>BMI</th>\n",
       "      <th>Smoking_History</th>\n",
       "      <th>Alcohol_Consumption</th>\n",
       "      <th>Fruit_Consumption</th>\n",
       "      <th>Green_Vegetables_Consumption</th>\n",
       "      <th>FriedPotato_Consumption</th>\n",
       "      <th>Sex_Female</th>\n",
       "      <th>Sex_Male</th>\n",
       "    </tr>\n",
       "  </thead>\n",
       "  <tbody>\n",
       "    <tr>\n",
       "      <th>count</th>\n",
       "      <td>10000.000000</td>\n",
       "      <td>10000.000000</td>\n",
       "      <td>10000.00000</td>\n",
       "      <td>10000.000000</td>\n",
       "      <td>10000.000000</td>\n",
       "      <td>10000.000000</td>\n",
       "      <td>10000.000000</td>\n",
       "      <td>10000.000000</td>\n",
       "      <td>10000.000000</td>\n",
       "      <td>10000.00000</td>\n",
       "      <td>10000.000000</td>\n",
       "      <td>10000.000000</td>\n",
       "      <td>10000.000000</td>\n",
       "      <td>10000.000000</td>\n",
       "      <td>10000.000000</td>\n",
       "      <td>10000.000000</td>\n",
       "      <td>10000.000000</td>\n",
       "      <td>10000.000000</td>\n",
       "      <td>10000.000000</td>\n",
       "      <td>10000.000000</td>\n",
       "    </tr>\n",
       "    <tr>\n",
       "      <th>mean</th>\n",
       "      <td>2.126400</td>\n",
       "      <td>3.720500</td>\n",
       "      <td>0.68540</td>\n",
       "      <td>0.500000</td>\n",
       "      <td>0.157200</td>\n",
       "      <td>0.146800</td>\n",
       "      <td>0.203100</td>\n",
       "      <td>0.232500</td>\n",
       "      <td>0.461900</td>\n",
       "      <td>8.13200</td>\n",
       "      <td>170.757500</td>\n",
       "      <td>83.312419</td>\n",
       "      <td>28.478577</td>\n",
       "      <td>0.494700</td>\n",
       "      <td>0.875900</td>\n",
       "      <td>1.241600</td>\n",
       "      <td>0.972200</td>\n",
       "      <td>0.832100</td>\n",
       "      <td>0.485400</td>\n",
       "      <td>0.514600</td>\n",
       "    </tr>\n",
       "    <tr>\n",
       "      <th>std</th>\n",
       "      <td>1.116937</td>\n",
       "      <td>0.712201</td>\n",
       "      <td>0.46438</td>\n",
       "      <td>0.500025</td>\n",
       "      <td>0.364007</td>\n",
       "      <td>0.353924</td>\n",
       "      <td>0.402326</td>\n",
       "      <td>0.422447</td>\n",
       "      <td>0.498571</td>\n",
       "      <td>3.19875</td>\n",
       "      <td>10.448532</td>\n",
       "      <td>19.015909</td>\n",
       "      <td>5.609093</td>\n",
       "      <td>0.499997</td>\n",
       "      <td>1.250542</td>\n",
       "      <td>0.635822</td>\n",
       "      <td>0.384242</td>\n",
       "      <td>0.409544</td>\n",
       "      <td>0.499812</td>\n",
       "      <td>0.499812</td>\n",
       "    </tr>\n",
       "    <tr>\n",
       "      <th>min</th>\n",
       "      <td>0.000000</td>\n",
       "      <td>0.000000</td>\n",
       "      <td>0.00000</td>\n",
       "      <td>0.000000</td>\n",
       "      <td>0.000000</td>\n",
       "      <td>0.000000</td>\n",
       "      <td>0.000000</td>\n",
       "      <td>0.000000</td>\n",
       "      <td>0.000000</td>\n",
       "      <td>0.00000</td>\n",
       "      <td>140.000000</td>\n",
       "      <td>32.660000</td>\n",
       "      <td>12.550000</td>\n",
       "      <td>0.000000</td>\n",
       "      <td>0.000000</td>\n",
       "      <td>0.000000</td>\n",
       "      <td>0.000000</td>\n",
       "      <td>0.000000</td>\n",
       "      <td>0.000000</td>\n",
       "      <td>0.000000</td>\n",
       "    </tr>\n",
       "    <tr>\n",
       "      <th>25%</th>\n",
       "      <td>1.000000</td>\n",
       "      <td>4.000000</td>\n",
       "      <td>0.00000</td>\n",
       "      <td>0.000000</td>\n",
       "      <td>0.000000</td>\n",
       "      <td>0.000000</td>\n",
       "      <td>0.000000</td>\n",
       "      <td>0.000000</td>\n",
       "      <td>0.000000</td>\n",
       "      <td>6.00000</td>\n",
       "      <td>163.000000</td>\n",
       "      <td>68.950000</td>\n",
       "      <td>24.410000</td>\n",
       "      <td>0.000000</td>\n",
       "      <td>0.000000</td>\n",
       "      <td>1.000000</td>\n",
       "      <td>1.000000</td>\n",
       "      <td>1.000000</td>\n",
       "      <td>0.000000</td>\n",
       "      <td>0.000000</td>\n",
       "    </tr>\n",
       "    <tr>\n",
       "      <th>50%</th>\n",
       "      <td>2.000000</td>\n",
       "      <td>4.000000</td>\n",
       "      <td>1.00000</td>\n",
       "      <td>0.500000</td>\n",
       "      <td>0.000000</td>\n",
       "      <td>0.000000</td>\n",
       "      <td>0.000000</td>\n",
       "      <td>0.000000</td>\n",
       "      <td>0.000000</td>\n",
       "      <td>9.00000</td>\n",
       "      <td>170.000000</td>\n",
       "      <td>81.650000</td>\n",
       "      <td>27.800000</td>\n",
       "      <td>0.000000</td>\n",
       "      <td>0.000000</td>\n",
       "      <td>1.000000</td>\n",
       "      <td>1.000000</td>\n",
       "      <td>1.000000</td>\n",
       "      <td>0.000000</td>\n",
       "      <td>1.000000</td>\n",
       "    </tr>\n",
       "    <tr>\n",
       "      <th>75%</th>\n",
       "      <td>3.000000</td>\n",
       "      <td>4.000000</td>\n",
       "      <td>1.00000</td>\n",
       "      <td>1.000000</td>\n",
       "      <td>0.000000</td>\n",
       "      <td>0.000000</td>\n",
       "      <td>0.000000</td>\n",
       "      <td>0.000000</td>\n",
       "      <td>1.000000</td>\n",
       "      <td>11.00000</td>\n",
       "      <td>178.000000</td>\n",
       "      <td>95.250000</td>\n",
       "      <td>31.800000</td>\n",
       "      <td>1.000000</td>\n",
       "      <td>1.000000</td>\n",
       "      <td>1.000000</td>\n",
       "      <td>1.000000</td>\n",
       "      <td>1.000000</td>\n",
       "      <td>1.000000</td>\n",
       "      <td>1.000000</td>\n",
       "    </tr>\n",
       "    <tr>\n",
       "      <th>max</th>\n",
       "      <td>4.000000</td>\n",
       "      <td>4.000000</td>\n",
       "      <td>1.00000</td>\n",
       "      <td>1.000000</td>\n",
       "      <td>1.000000</td>\n",
       "      <td>1.000000</td>\n",
       "      <td>1.000000</td>\n",
       "      <td>1.000000</td>\n",
       "      <td>1.000000</td>\n",
       "      <td>12.00000</td>\n",
       "      <td>201.000000</td>\n",
       "      <td>147.420000</td>\n",
       "      <td>46.340000</td>\n",
       "      <td>1.000000</td>\n",
       "      <td>4.000000</td>\n",
       "      <td>4.000000</td>\n",
       "      <td>4.000000</td>\n",
       "      <td>4.000000</td>\n",
       "      <td>1.000000</td>\n",
       "      <td>1.000000</td>\n",
       "    </tr>\n",
       "  </tbody>\n",
       "</table>\n",
       "</div>"
      ],
      "text/plain": [
       "       General_Health       Checkup     Exercise  Heart_Disease   Skin_Cancer  \\\n",
       "count    10000.000000  10000.000000  10000.00000   10000.000000  10000.000000   \n",
       "mean         2.126400      3.720500      0.68540       0.500000      0.157200   \n",
       "std          1.116937      0.712201      0.46438       0.500025      0.364007   \n",
       "min          0.000000      0.000000      0.00000       0.000000      0.000000   \n",
       "25%          1.000000      4.000000      0.00000       0.000000      0.000000   \n",
       "50%          2.000000      4.000000      1.00000       0.500000      0.000000   \n",
       "75%          3.000000      4.000000      1.00000       1.000000      0.000000   \n",
       "max          4.000000      4.000000      1.00000       1.000000      1.000000   \n",
       "\n",
       "       Other_Cancer    Depression      Diabetes     Arthritis  Age_Category  \\\n",
       "count  10000.000000  10000.000000  10000.000000  10000.000000   10000.00000   \n",
       "mean       0.146800      0.203100      0.232500      0.461900       8.13200   \n",
       "std        0.353924      0.402326      0.422447      0.498571       3.19875   \n",
       "min        0.000000      0.000000      0.000000      0.000000       0.00000   \n",
       "25%        0.000000      0.000000      0.000000      0.000000       6.00000   \n",
       "50%        0.000000      0.000000      0.000000      0.000000       9.00000   \n",
       "75%        0.000000      0.000000      0.000000      1.000000      11.00000   \n",
       "max        1.000000      1.000000      1.000000      1.000000      12.00000   \n",
       "\n",
       "        Height_(cm)   Weight_(kg)           BMI  Smoking_History  \\\n",
       "count  10000.000000  10000.000000  10000.000000     10000.000000   \n",
       "mean     170.757500     83.312419     28.478577         0.494700   \n",
       "std       10.448532     19.015909      5.609093         0.499997   \n",
       "min      140.000000     32.660000     12.550000         0.000000   \n",
       "25%      163.000000     68.950000     24.410000         0.000000   \n",
       "50%      170.000000     81.650000     27.800000         0.000000   \n",
       "75%      178.000000     95.250000     31.800000         1.000000   \n",
       "max      201.000000    147.420000     46.340000         1.000000   \n",
       "\n",
       "       Alcohol_Consumption  Fruit_Consumption  Green_Vegetables_Consumption  \\\n",
       "count         10000.000000       10000.000000                  10000.000000   \n",
       "mean              0.875900           1.241600                      0.972200   \n",
       "std               1.250542           0.635822                      0.384242   \n",
       "min               0.000000           0.000000                      0.000000   \n",
       "25%               0.000000           1.000000                      1.000000   \n",
       "50%               0.000000           1.000000                      1.000000   \n",
       "75%               1.000000           1.000000                      1.000000   \n",
       "max               4.000000           4.000000                      4.000000   \n",
       "\n",
       "       FriedPotato_Consumption    Sex_Female      Sex_Male  \n",
       "count             10000.000000  10000.000000  10000.000000  \n",
       "mean                  0.832100      0.485400      0.514600  \n",
       "std                   0.409544      0.499812      0.499812  \n",
       "min                   0.000000      0.000000      0.000000  \n",
       "25%                   1.000000      0.000000      0.000000  \n",
       "50%                   1.000000      0.000000      1.000000  \n",
       "75%                   1.000000      1.000000      1.000000  \n",
       "max                   4.000000      1.000000      1.000000  "
      ]
     },
     "execution_count": 3,
     "metadata": {},
     "output_type": "execute_result"
    }
   ],
   "source": [
    "df.describe()"
   ]
  },
  {
   "cell_type": "code",
   "execution_count": 4,
   "id": "70a407c0",
   "metadata": {},
   "outputs": [
    {
     "data": {
      "text/plain": [
       "0    5000\n",
       "1    5000\n",
       "Name: Heart_Disease, dtype: int64"
      ]
     },
     "execution_count": 4,
     "metadata": {},
     "output_type": "execute_result"
    }
   ],
   "source": [
    "df['Heart_Disease'].value_counts()"
   ]
  },
  {
   "cell_type": "code",
   "execution_count": 5,
   "id": "b93e2bce",
   "metadata": {},
   "outputs": [
    {
     "data": {
      "text/plain": [
       "0    5146\n",
       "1    4854\n",
       "Name: Sex_Female, dtype: int64"
      ]
     },
     "execution_count": 5,
     "metadata": {},
     "output_type": "execute_result"
    }
   ],
   "source": [
    "df['Sex_Female'].value_counts()"
   ]
  },
  {
   "cell_type": "code",
   "execution_count": 6,
   "id": "a57fb646",
   "metadata": {},
   "outputs": [
    {
     "data": {
      "text/plain": [
       "2    3324\n",
       "3    2737\n",
       "1    1953\n",
       "4    1113\n",
       "0     873\n",
       "Name: General_Health, dtype: int64"
      ]
     },
     "execution_count": 6,
     "metadata": {},
     "output_type": "execute_result"
    }
   ],
   "source": [
    "df['General_Health'].value_counts()"
   ]
  },
  {
   "cell_type": "code",
   "execution_count": 7,
   "id": "0c072f37",
   "metadata": {},
   "outputs": [],
   "source": [
    "X = df.drop(['Heart_Disease'],axis=1)\n",
    "y = df['Heart_Disease']"
   ]
  },
  {
   "cell_type": "code",
   "execution_count": 8,
   "id": "e3476518",
   "metadata": {},
   "outputs": [],
   "source": [
    "#X_train, X_test, y_train, y_test = train_test_split(X, y, test_size=0.3, random_state=101)"
   ]
  },
  {
   "cell_type": "code",
   "execution_count": 9,
   "id": "f6d2b06c",
   "metadata": {},
   "outputs": [],
   "source": [
    "from sklearn.preprocessing import MinMaxScaler"
   ]
  },
  {
   "cell_type": "code",
   "execution_count": 10,
   "id": "8a94c0a8",
   "metadata": {},
   "outputs": [],
   "source": [
    "scaler = MinMaxScaler()"
   ]
  },
  {
   "cell_type": "code",
   "execution_count": 11,
   "id": "819060c5",
   "metadata": {},
   "outputs": [],
   "source": [
    "#X_train_scalled = scaler.fit_transform(X_train)"
   ]
  },
  {
   "cell_type": "code",
   "execution_count": 12,
   "id": "bdc6088f",
   "metadata": {},
   "outputs": [],
   "source": [
    "#X_test_scalled = scaler.fit_transform(X_test)"
   ]
  },
  {
   "cell_type": "markdown",
   "id": "f857017e",
   "metadata": {},
   "source": [
    "# PCA"
   ]
  },
  {
   "cell_type": "code",
   "execution_count": 13,
   "id": "7e56c5ae",
   "metadata": {},
   "outputs": [],
   "source": [
    "from sklearn.decomposition import PCA"
   ]
  },
  {
   "cell_type": "code",
   "execution_count": 29,
   "id": "3f95027b",
   "metadata": {},
   "outputs": [],
   "source": [
    "pca = PCA(0.90)"
   ]
  },
  {
   "cell_type": "code",
   "execution_count": 30,
   "id": "a82a2d2c",
   "metadata": {},
   "outputs": [],
   "source": [
    "X_pca= pca.fit_transform(X)"
   ]
  },
  {
   "cell_type": "code",
   "execution_count": 31,
   "id": "453fa5dc",
   "metadata": {},
   "outputs": [],
   "source": [
    "X_train_pca, X_test_pca, y_train_pca, y_test_pca = train_test_split(X_pca, y, test_size=0.3, random_state=101)"
   ]
  },
  {
   "cell_type": "code",
   "execution_count": 32,
   "id": "d5e471f8",
   "metadata": {},
   "outputs": [],
   "source": [
    "X_train_scalled = scaler.fit_transform(X_train_pca)"
   ]
  },
  {
   "cell_type": "code",
   "execution_count": 33,
   "id": "77bd1c1e",
   "metadata": {},
   "outputs": [],
   "source": [
    "X_test_scalled = scaler.fit_transform(X_test_pca)"
   ]
  },
  {
   "cell_type": "markdown",
   "id": "c6decac1",
   "metadata": {},
   "source": [
    "# Model Train"
   ]
  },
  {
   "cell_type": "code",
   "execution_count": 17,
   "id": "b82177dc",
   "metadata": {},
   "outputs": [],
   "source": [
    "model_params = {\n",
    "    'svm': {\n",
    "        'model': SVC(gamma='auto'),\n",
    "        'params' : {\n",
    "            'C': [1,5,10],\n",
    "            'kernel': ['rbf','linear']\n",
    "        }  \n",
    "    },\n",
    "    'random_forest': {\n",
    "        'model': RandomForestClassifier(),\n",
    "        'params' : {\n",
    "            'n_estimators': [100,125,150]\n",
    "        }\n",
    "    },\n",
    "    'logistic_regression' : {\n",
    "        'model': LogisticRegression(solver='liblinear',multi_class='auto',max_iter= 1000),\n",
    "        'params': {\n",
    "            'C': [1,5,10]\n",
    "        }\n",
    "    },\n",
    "    \n",
    "    'GaussianNB' : {\n",
    "        'model' : GaussianNB(),\n",
    "        'params':{}\n",
    "    }\n",
    "}"
   ]
  },
  {
   "cell_type": "code",
   "execution_count": 35,
   "id": "21823ac3",
   "metadata": {},
   "outputs": [
    {
     "data": {
      "text/html": [
       "<div>\n",
       "<style scoped>\n",
       "    .dataframe tbody tr th:only-of-type {\n",
       "        vertical-align: middle;\n",
       "    }\n",
       "\n",
       "    .dataframe tbody tr th {\n",
       "        vertical-align: top;\n",
       "    }\n",
       "\n",
       "    .dataframe thead th {\n",
       "        text-align: right;\n",
       "    }\n",
       "</style>\n",
       "<table border=\"1\" class=\"dataframe\">\n",
       "  <thead>\n",
       "    <tr style=\"text-align: right;\">\n",
       "      <th></th>\n",
       "      <th>model</th>\n",
       "      <th>best_score</th>\n",
       "      <th>best_param</th>\n",
       "    </tr>\n",
       "  </thead>\n",
       "  <tbody>\n",
       "    <tr>\n",
       "      <th>0</th>\n",
       "      <td>svm</td>\n",
       "      <td>0.541000</td>\n",
       "      <td>{'C': 5, 'kernel': 'linear'}</td>\n",
       "    </tr>\n",
       "    <tr>\n",
       "      <th>1</th>\n",
       "      <td>random_forest</td>\n",
       "      <td>0.553286</td>\n",
       "      <td>{'n_estimators': 150}</td>\n",
       "    </tr>\n",
       "    <tr>\n",
       "      <th>2</th>\n",
       "      <td>logistic_regression</td>\n",
       "      <td>0.542714</td>\n",
       "      <td>{'C': 5}</td>\n",
       "    </tr>\n",
       "    <tr>\n",
       "      <th>3</th>\n",
       "      <td>GaussianNB</td>\n",
       "      <td>0.543000</td>\n",
       "      <td>{}</td>\n",
       "    </tr>\n",
       "  </tbody>\n",
       "</table>\n",
       "</div>"
      ],
      "text/plain": [
       "                 model  best_score                    best_param\n",
       "0                  svm    0.541000  {'C': 5, 'kernel': 'linear'}\n",
       "1        random_forest    0.553286         {'n_estimators': 150}\n",
       "2  logistic_regression    0.542714                      {'C': 5}\n",
       "3           GaussianNB    0.543000                            {}"
      ]
     },
     "execution_count": 35,
     "metadata": {},
     "output_type": "execute_result"
    }
   ],
   "source": [
    "scores = []\n",
    "best_estimator = {}\n",
    "for mname, mp in model_params.items():\n",
    "    clf = GridSearchCV(mp['model'],mp['params'],cv= 5,n_jobs= 6, return_train_score= False)\n",
    "    clf.fit(X_train_scalled,y_train_pca)\n",
    "    scores.append({\n",
    "        'model': mname,\n",
    "        'best_score': clf.best_score_,\n",
    "        'best_param': clf.best_params_\n",
    "    })\n",
    "    best_estimator[mname] = clf.best_estimator_\n",
    "    \n",
    "pd.DataFrame(scores)"
   ]
  },
  {
   "cell_type": "code",
   "execution_count": 36,
   "id": "b06676f5",
   "metadata": {},
   "outputs": [
    {
     "data": {
      "text/plain": [
       "{'svm': SVC(C=5, gamma='auto', kernel='linear'),\n",
       " 'random_forest': RandomForestClassifier(n_estimators=150),\n",
       " 'logistic_regression': LogisticRegression(C=5, max_iter=1000, solver='liblinear'),\n",
       " 'GaussianNB': GaussianNB()}"
      ]
     },
     "execution_count": 36,
     "metadata": {},
     "output_type": "execute_result"
    }
   ],
   "source": [
    "best_estimator"
   ]
  },
  {
   "cell_type": "code",
   "execution_count": 53,
   "id": "bbe9028a",
   "metadata": {},
   "outputs": [],
   "source": [
    "model = best_estimator['svm']"
   ]
  },
  {
   "cell_type": "code",
   "execution_count": 54,
   "id": "21aacd2b",
   "metadata": {},
   "outputs": [],
   "source": [
    "y_pred = model.predict(X_test_pca)"
   ]
  },
  {
   "cell_type": "code",
   "execution_count": 55,
   "id": "b308a3bf",
   "metadata": {},
   "outputs": [],
   "source": [
    "from sklearn.metrics import confusion_matrix,classification_report"
   ]
  },
  {
   "cell_type": "code",
   "execution_count": 56,
   "id": "d03d6d92",
   "metadata": {},
   "outputs": [],
   "source": [
    "cm = confusion_matrix(y_test_pca,y_pred)"
   ]
  },
  {
   "cell_type": "code",
   "execution_count": 57,
   "id": "0a818e7c",
   "metadata": {},
   "outputs": [
    {
     "data": {
      "text/plain": [
       "Text(50.722222222222214, 0.5, 'predicted')"
      ]
     },
     "execution_count": 57,
     "metadata": {},
     "output_type": "execute_result"
    },
    {
     "data": {
      "image/png": "[encoded data removed]",
      "text/plain": [
       "<Figure size 640x480 with 2 Axes>"
      ]
     },
     "metadata": {},
     "output_type": "display_data"
    }
   ],
   "source": [
    "import seaborn as sns\n",
    "sns.heatmap(cm)\n",
    "import matplotlib.pyplot as plt\n",
    "plt.xlabel('Actual')\n",
    "plt.ylabel('predicted')"
   ]
  },
  {
   "cell_type": "code",
   "execution_count": 58,
   "id": "8b5f0ef3",
   "metadata": {},
   "outputs": [
    {
     "name": "stdout",
     "output_type": "stream",
     "text": [
      "              precision    recall  f1-score   support\n",
      "\n",
      "           0       0.54      0.55      0.54      1504\n",
      "           1       0.54      0.52      0.53      1496\n",
      "\n",
      "    accuracy                           0.54      3000\n",
      "   macro avg       0.54      0.54      0.54      3000\n",
      "weighted avg       0.54      0.54      0.54      3000\n",
      "\n"
     ]
    }
   ],
   "source": [
    "print(classification_report(y_test,y_pred))"
   ]
  },
  {
   "cell_type": "code",
   "execution_count": 59,
   "id": "dc7be7dd",
   "metadata": {},
   "outputs": [
    {
     "data": {
      "text/plain": [
       "['model.pkl']"
      ]
     },
     "execution_count": 59,
     "metadata": {},
     "output_type": "execute_result"
    }
   ],
   "source": [
    "import joblib\n",
    "\n",
    "joblib.dump(model,'model.pkl')"
   ]
  },
  {
   "cell_type": "code",
   "execution_count": null,
   "id": "241603db",
   "metadata": {},
   "outputs": [],
   "source": []
  }
 ],
 "metadata": {
  "kernelspec": {
   "display_name": "Python 3 (ipykernel)",
   "language": "python",
   "name": "python3"
  },
  "language_info": {
   "codemirror_mode": {
    "name": "ipython",
    "version": 3
   },
   "file_extension": ".py",
   "mimetype": "text/x-python",
   "name": "python",
   "nbconvert_exporter": "python",
   "pygments_lexer": "ipython3",
   "version": "3.11.3"
  }
 },
 "nbformat": 4,
 "nbformat_minor": 5
}
